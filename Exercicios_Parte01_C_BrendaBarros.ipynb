{
  "cells": [
    {
      "cell_type": "markdown",
      "metadata": {
        "id": "-S18HnsCtKqj"
      },
      "source": [
        "## Funções"
      ]
    },
    {
      "cell_type": "markdown",
      "metadata": {
        "id": "cA_GKn6o46WH"
      },
      "source": [
        "33 - Crie uma função que calcule o fatorial de um número passado como argumento. Caso o número seja negativo, retorne um valor nulo. Caso positivo, retorne o resultado do fatorial. Dica: utilize recursividade e lembre-se de considerar que o fatorial de 0 é 1.\n"
      ]
    },
    {
      "cell_type": "code",
      "execution_count": 1,
      "metadata": {
        "collapsed": true,
        "id": "_hs1s18U45_P",
        "colab": {
          "base_uri": "https://localhost:8080/"
        },
        "outputId": "941cd20a-7b90-431d-f9b8-04e4c200695e"
      },
      "outputs": [
        {
          "output_type": "stream",
          "name": "stdout",
          "text": [
            "Valor nulo!\n"
          ]
        }
      ],
      "source": [
        "import math\n",
        "from math import factorial\n",
        "\n",
        "def factorial(num):\n",
        "    if num==0:\n",
        "        return 1\n",
        "    elif num <0:\n",
        "        print('Valor nulo!')\n",
        "    else:\n",
        "        return num*factorial(num-1)\n",
        "    \n",
        "factorial(-2)"
      ]
    },
    {
      "cell_type": "markdown",
      "metadata": {
        "id": "XiVGNaWwEBRl"
      },
      "source": [
        "34 - Define uma função que receba um número arbitrário de argumentos e retorne a sua soma. Exiba o resultado de uma chamada dessa função passando como argumentos números inteiros."
      ]
    },
    {
      "cell_type": "code",
      "execution_count": 2,
      "metadata": {
        "collapsed": true,
        "id": "0SmmOKbJIw-X",
        "colab": {
          "base_uri": "https://localhost:8080/"
        },
        "outputId": "37f32b97-b38e-4e8f-a253-a3831625443a"
      },
      "outputs": [
        {
          "output_type": "stream",
          "name": "stdout",
          "text": [
            "digite um número inteiro:11\n",
            "digite um outro número inteiro:2\n",
            "A soma de 11 + 2 = 13!\n"
          ]
        }
      ],
      "source": [
        "def adicao(valor1,valor2):\n",
        "    return valor1+valor2\n",
        "\n",
        "valor1=int(input('digite um número inteiro:'))\n",
        "valor2=int(input('digite um outro número inteiro:'))\n",
        "\n",
        "print('A soma de {} + {} = {}!'.format(valor1, valor2,adicao(valor1,valor2)))\n",
        "    \n"
      ]
    },
    {
      "cell_type": "markdown",
      "metadata": {
        "id": "vbGhkdcjp5cm"
      },
      "source": [
        "### Funções Especiais\n",
        "\n",
        "Nessa sessão serão explorados exercícios baseados em funções especiais do Python, tais como range, lambda, map, filter, enumerate e zip."
      ]
    },
    {
      "cell_type": "markdown",
      "metadata": {
        "id": "wHkgbW1ICOp_"
      },
      "source": [
        "35 - Utilize a função *range* para criar uma lista de números inteiros que vai de 100 a -100, seguindo uma ordem decrescente e com intervalos de duas unidades. Exiba a lista gerada."
      ]
    },
    {
      "cell_type": "code",
      "execution_count": 3,
      "metadata": {
        "collapsed": true,
        "id": "s01McQtz1Szd",
        "colab": {
          "base_uri": "https://localhost:8080/"
        },
        "outputId": "dab7706f-952d-4092-a0e1-f67dc1880c7b"
      },
      "outputs": [
        {
          "output_type": "stream",
          "name": "stdout",
          "text": [
            "Lista = [100, 98, 96, 94, 92, 90, 88, 86, 84, 82, 80, 78, 76, 74, 72, 70, 68, 66, 64, 62, 60, 58, 56, 54, 52, 50, 48, 46, 44, 42, 40, 38, 36, 34, 32, 30, 28, 26, 24, 22, 20, 18, 16, 14, 12, 10, 8, 6, 4, 2, 0, -2, -4, -6, -8, -10, -12, -14, -16, -18, -20, -22, -24, -26, -28, -30, -32, -34, -36, -38, -40, -42, -44, -46, -48, -50, -52, -54, -56, -58, -60, -62, -64, -66, -68, -70, -72, -74, -76, -78, -80, -82, -84, -86, -88, -90, -92, -94, -96, -98, -100]\n"
          ]
        }
      ],
      "source": [
        "Lista=list(range(100,-102,-2)) \n",
        "print('Lista =', Lista)\n"
      ]
    },
    {
      "cell_type": "markdown",
      "metadata": {
        "id": "mGKZ9A4K111M"
      },
      "source": [
        "36 - Crie uma função anônima que tenha como entrada um único parâmetro e retorne a sua raiz caso o número informado seja maior ou igual a 0. Em caso de números negativos, retorne um valor nulo. Teste a função para os valores -9, 0, 9. Dica: utilize a biblioteca math para acessar operações matemáticas."
      ]
    },
    {
      "cell_type": "code",
      "execution_count": 4,
      "metadata": {
        "collapsed": true,
        "id": "Gp-HAS1z12CO",
        "colab": {
          "base_uri": "https://localhost:8080/"
        },
        "outputId": "3a7ae204-daf3-4be3-fdc0-1a82cb281892"
      },
      "outputs": [
        {
          "output_type": "stream",
          "name": "stdout",
          "text": [
            "\n",
            "Informe um número para calcular sua raiz quadrada:\n",
            ": 25\n",
            "O valor da raiz quadrada de: 25.0 é = 5.0\n"
          ]
        }
      ],
      "source": [
        "import math\n",
        "Valor = float(input(\"\\nInforme um número para calcular sua raiz quadrada:\\n: \"))\n",
        "\n",
        "if Valor >= 0:\n",
        "    RaizQ = math.sqrt(Valor)\n",
        "    \n",
        "    print(f'O valor da raiz quadrada de: {Valor} é = { RaizQ}')\n",
        "else:\n",
        "    print('Valor informado tem resultado Nulo!')\n"
      ]
    },
    {
      "cell_type": "markdown",
      "metadata": {
        "id": "qh2Wc1d5_r4S"
      },
      "source": [
        "37 - Uma pesquisa de satisfação dos empregados de uma determinada empresa reuniu dados referente a um questionário no qual foi computado o nível de satisfação do empregado em relação ao salário recebido. Os valores salariais estão armazenados na variávei 'salarios' e pontuação do questionário está armazenada na variável 'satisfacao_empregado'. Realize os seguintes procedimentos.\n",
        "\n",
        "1. A partir da lista satisfacao_empregados, gere uma nova lista com valores normalizados entre 0 e 1.  Fórmula para normalização: $ \\frac{x_i - x_{min}}{x_{max} - x_{min}} $\n",
        "2. Crie a seguinte função: $ f(x) = 0.0004x -0.4 $. A função recebe como entrada um unico número inteiro.\n",
        "3. Utilize a função criada no passo anterior para criar uma nova lista a partir da lista '*salarios*'. Armazene-a em uma variável denominada '*satisfacao_estimada*'.\n",
        "4. Crie uma função que receba como entrada duas listas e compute $ \\frac{1}{n}\\sum_{i=0}^{n}(a_i - b_i)^2 $. Assuma que $n$ seja o número de elementos de qualquer uma das listas e $a$ e $b$ correspondam a valores das listas em uma mesma posição $i$.\n",
        "\n",
        "Dica: considere utilizar a função map e a função anônima lambda para os procedimentos simples como, por exemplo, dos passos 1 ao 3."
      ]
    },
    {
      "cell_type": "code",
      "source": [
        "\n",
        "salarios = [1000, 1500, 2000, 2500, 3000, 3500]\n",
        "satisfacao_empregados = [40, 50, 60, 70, 80, 90]\n",
        "\n",
        "# Insira abaixo a funcao para normalizar a lista satisfacao_empregados\n",
        "def normalizar(lst1):\n",
        "    return list(map(lambda x:(x - min(lst1)) / (max(lst1)-min(lst1)),lst1))\n",
        "\n",
        "satisfacao_empregados1 = normalizar(satisfacao_empregados) \n",
        "\n",
        "print('(1) Nova lista normalizada satisfação dos empregados: \\n R = satisfacao_empregados1',satisfacao_empregados1)\n",
        "\n",
        "def funcao(num):\n",
        "    return (0.0004*num) -0.4\n",
        "\n",
        "\n",
        "# (3)  Insira a funcao para calcular o erro quadratico minimo\n",
        "#print(erro_medio(satisfacao_empregados_normalizado, satisfacao_estimada))\n",
        "#  (OBS)Dica: considere utilizar a função map e a função anônima lambda para os procedimentos simples como, \n",
        "#   por exemplo, dos passos 1 ao 3.\n",
        "\n",
        "satisfacao_estimada = list(map(lambda x:funcao(x),salarios)) \n",
        "\n",
        "print('(3) O valor da Satisfação estimada é : R = satisfacao_estimada = ',satisfacao_estimada)\n",
        "\n",
        "# Insira a funcao para calcular o erro quadratico minimo\n",
        "def lista_nova(a,b):\n",
        "    tamanho = (1/len(a))\n",
        "    lista = [(a-b)**2 for a,b in zip(a,b)]\n",
        "    return tamanho*sum(lista)\n",
        "\n",
        "print('(4) Resultado da função de entrada de duas listas:lista(a){}, lista(b){}:lista_nova = {}'.format(salarios,satisfacao_empregados,lista_nova(satisfacao_empregados1,satisfacao_estimada)))\n",
        "print('\\n-------------------------------------------------------------------------------------------------------')\n"
      ],
      "metadata": {
        "colab": {
          "base_uri": "https://localhost:8080/"
        },
        "id": "qkYxdoNT6PbL",
        "outputId": "be12ed2f-f491-4b6f-93d3-9be3f5b76764"
      },
      "execution_count": 15,
      "outputs": [
        {
          "output_type": "stream",
          "name": "stdout",
          "text": [
            "(1) Nova lista normalizada satisfação dos empregados: \n",
            " R = satisfacao_empregados1 [0.0, 0.2, 0.4, 0.6, 0.8, 1.0]\n",
            "(3) O valor da Satisfação estimada é : R = satisfacao_estimada =  [0.0, 0.19999999999999996, 0.4, 0.6, 0.7999999999999999, 1.0]\n",
            "(4) Resultado da função de entrada de duas listas:lista(a)[1000, 1500, 2000, 2500, 3000, 3500], lista(b)[40, 50, 60, 70, 80, 90]:lista_nova = 2.5679065925163142e-33\n",
            "\n",
            "-------------------------------------------------------------------------------------------------------\n"
          ]
        }
      ]
    },
    {
      "cell_type": "markdown",
      "metadata": {
        "id": "UxrISLw--kIE"
      },
      "source": [
        "38 - A partir da lista definida abaixo, filtre-a de forma que somente as palavras com menos de 3 caracteres sejam mantidas. Dica: utilize a função filter."
      ]
    },
    {
      "cell_type": "code",
      "execution_count": 5,
      "metadata": {
        "collapsed": true,
        "id": "onMCh04A-kQF",
        "colab": {
          "base_uri": "https://localhost:8080/"
        },
        "outputId": "a69b9b1e-0753-4890-8307-6868d1c91e1f"
      },
      "outputs": [
        {
          "output_type": "stream",
          "name": "stdout",
          "text": [
            "total:10, itens:['a.', 'mi', 'eu', 'Ut', 'ut', 'a', 'at', 'in', 'et', 'ac']\n"
          ]
        }
      ],
      "source": [
        "lista = ['tempor', 'erat,', 'in,', 'elit', 'Etiam', 'tincidunt.', 'rutrum', 'ut,', 'lacinia', 'Integer', 'Nam', 'turpis', 'Nulla', 'non.', 'vehicula', 'diam', 'porttitor', 'blandit', 'Sed', 'pharetra', 'erat', 'hendrerit', 'tristique', 'vulputate', 'faucibus.', 'augue.', 'potenti.', 'vel', 'eros', 'imperdiet,', 'a.', 'dolor.', 'pretium', 'Fusce', 'sit', 'ornare', 'Morbi', 'quis', 'fringilla', 'lobortis', 'tempus', 'mauris', 'ante,', 'lacus', 'porta.', 'faucibus,', 'quis.', 'vestibulum', 'primis', 'luctus,', 'ullamcorper.', 'augue', 'nec', 'mollis', 'lectus', 'dolor', 'sodales', 'ligula,', 'dignissim', 'sem', 'varius', 'mi', 'eu', 'elit.', 'semper', 'id,', 'tempus.', 'finibus.', 'neque', 'quam.', 'scelerisque', 'lorem', 'diam,', 'Cras', 'nisi', 'Lorem', 'leo,', 'Ut', 'ut', 'feugiat.', 'ante', 'venenatis', 'fermentum', 'congue', 'urna', 'Praesent', 'Donec', 'Vestibulum', 'purus.', 'Nullam', 'tincidunt', 'efficitur', 'velit', 'commodo.', 'iaculis', 'sed,', 'volutpat', 'amet', 'mauris.', 'odio', 'a', 'Interdum', 'neque.', 'risus', 'vitae', 'consectetur', 'adipiscing', 'at', 'Aliquam', 'molestie', 'euismod', 'odio.', 'sed', 'in', 'suscipit', 'augue,', 'sapien', 'posuere', 'euismod,', 'ipsum', 'et.', 'maximus.', 'risus,', 'Suspendisse', 'et', 'facilisis', 'elementum', 'efficitur,', 'ac', 'nulla.', 'quam', 'arcu', 'fames', 'Nunc', 'pharetra,', 'laoreet', 'ligula', 'fermentum,', 'auctor', 'tortor,', 'Curabitur', 'eget', 'finibus', 'ultrices', 'malesuada', 'purus', 'congue,', 'amet,', 'fermentum.', 'dui']\n",
        "\n",
        "NovaLista=list(filter(lambda valor:len(valor)<3,lista))\n",
        "print('total:{}, itens:{}'.format(len(NovaLista),NovaLista))\n"
      ]
    },
    {
      "cell_type": "markdown",
      "metadata": {
        "id": "Mvu_3JcQ0JZj"
      },
      "source": [
        "39 - A partir da lista definida abaixo, gere automaticamente e exiba um dicionário enumerado do tipo:\n",
        "\n",
        "```\n",
        "dicionario = {0: 'Preprocessing', 1: 'Feature Extraction', 2: 'Feature Selection' ...}\n",
        "\n",
        "```\n",
        "\n",
        "Em seguida, gere a seguinte saída:\n",
        "\n",
        "Step 1 - Preprocessing\n",
        "\n",
        "Step 2 - Feature Extraction\n",
        "\n",
        "Step 3 - Feature Selection\n",
        "\n",
        "Step 4 - Classification\n",
        "\n",
        "Step 5 - Post Processing"
      ]
    },
    {
      "cell_type": "code",
      "execution_count": 6,
      "metadata": {
        "collapsed": true,
        "id": "jNIHsLKw0Jhm",
        "colab": {
          "base_uri": "https://localhost:8080/"
        },
        "outputId": "aa28ba45-1126-48a0-e629-0a8950114278"
      },
      "outputs": [
        {
          "output_type": "stream",
          "name": "stdout",
          "text": [
            "Step 1 - Preprocessing\n",
            "\n",
            "Step 2 - Feature Extraction\n",
            "\n",
            "Step 3 - Feature Selection\n",
            "\n",
            "Step 4 - Classification\n",
            "\n",
            "Step 5 - Post Processing\n",
            "\n"
          ]
        }
      ],
      "source": [
        "lst = [\"Preprocessing\", \"Feature Extraction\", \"Feature Selection\", \"Classification\", \"Post Processing\"]\n",
        "\n",
        "\n",
        "nums = [1,2,3,4,5]\n",
        "dicionario = dict(zip(nums,lst))\n",
        "\n",
        "for n in range(1,len(lst)+1):\n",
        "    print(f'Step {n} - {lst[n-1]}\\n')\n",
        "\n"
      ]
    },
    {
      "cell_type": "markdown",
      "metadata": {
        "id": "wb6C_-EszkKA"
      },
      "source": [
        "40 - Realize os seguintes procedimentos:\n",
        "1. Crie uma lista de números inteiros de 1 a 4 com incremento de 1 em 1.\n",
        "2. Crie uma lista contendo quatro strings.\n",
        "3. Utilize uma única estrutura de repetição do tipo *for* para iterar paralelamente sobre os quatro elementos de cada uma das duas listas. Exiba os elementos."
      ]
    },
    {
      "cell_type": "code",
      "execution_count": 8,
      "metadata": {
        "collapsed": true,
        "id": "2bEJ3OYmzkQy",
        "colab": {
          "base_uri": "https://localhost:8080/"
        },
        "outputId": "ec4d76c8-8b3a-4c56-fee6-42d62efb17d7"
      },
      "outputs": [
        {
          "output_type": "stream",
          "name": "stdout",
          "text": [
            "(1)Crie uma lista de números inteiros de 1 a 4 com incremento de 1 em 1.R = [1, 2, 3, 4]\n",
            "(2)Crie uma lista contendo quatro strings.R =  ['um', 'dois', 'tres', 'quatro']\n",
            "(3)Utilize uma única estrutura de repetição do tipo for para iterar \n",
            "paralelamente sobre os quatro elementos de cada uma das duas listas. R =\n",
            "1 - um\n",
            "2 - dois\n",
            "3 - tres\n",
            "4 - quatro\n"
          ]
        }
      ],
      "source": [
        "Lista=list(range(1,5,1)) \n",
        "print('(1)Crie uma lista de números inteiros de 1 a 4 com incremento de 1 em 1.R =',Lista)\n",
        "Lista1=['um','dois', 'tres', 'quatro']\n",
        "\n",
        "print('(2)Crie uma lista contendo quatro strings.R = ',Lista1)\n",
        "\n",
        "print('(3)Utilize uma única estrutura de repetição do tipo for para iterar \\nparalelamente sobre os quatro elementos de cada uma das duas listas. R =')\n",
        "\n",
        "num = [1, 2, 3, 4]\n",
        "texto = ['um','dois', 'tres', 'quatro']\n",
        "\n",
        "for f in range(0, 4, 1):\n",
        "    print(\"{} - {}\".format(Lista[f],Lista1[f]))\n"
      ]
    },
    {
      "cell_type": "markdown",
      "metadata": {
        "id": "4a94p1n85MRN"
      },
      "source": [
        "## Orientação  Objetos"
      ]
    },
    {
      "cell_type": "markdown",
      "metadata": {
        "id": "2nkmK2xGAeIV"
      },
      "source": [
        "41 - Crie uma classe que modele um ser humano, esta deve possuir os seguintes atributos e métodos:\n",
        "* nome\n",
        "* idade\n",
        "* peso\n",
        "* altura\n",
        "* envelhecer()\n",
        "* engordar()\n",
        "* emagrecer()\n",
        "* crescer()\n",
        "\n",
        "O acesso aos atributos deve ser realizado através de métodos. O método envelhecer adicionar +1 na idade, o método engordar adiciona +1 no peso, o método emagrecer subtrai -1 no peso e o método crescer adicionar +1 na altura. Considere que a cada ano em que a pessoa envelhece, ela deve crescer 1 cm caso a idade dela seja menor que 20 anos."
      ]
    },
    {
      "cell_type": "code",
      "execution_count": 9,
      "metadata": {
        "collapsed": true,
        "id": "KEMBcimDAeUi"
      },
      "outputs": [],
      "source": [
        "\n",
        "class SerHumano:\n",
        "    def __init__(self, nome, idade, peso, altura):\n",
        "        self.__nome = nome\n",
        "        self.__idade = idade\n",
        "        self.__peso = peso\n",
        "        self.__altura = altura\n",
        "        \n",
        "    @property\n",
        "    def nome(self):\n",
        "        return self.__nome\n",
        "\n",
        "    @nome.setter\n",
        "    def nome(self, nome):\n",
        "        self.__nome = nome\n",
        "\n",
        "    @property\n",
        "    def idade(self):\n",
        "        return self.__idade\n",
        "\n",
        "    @idade.setter\n",
        "    def idade(self, idade):\n",
        "        self.__idade = idade\n",
        "\n",
        "    @property        \n",
        "    def peso(self):\n",
        "        return self.__peso        \n",
        "\n",
        "    @peso.setter\n",
        "    def peso(self, peso):\n",
        "        self.__peso = peso\n",
        "\n",
        "    @property        \n",
        "    def altura(self):\n",
        "        return self.__altura \n",
        "\n",
        "    @altura.setter\n",
        "    def altura(self, altura):\n",
        "        self.__altura = altura        \n",
        "\n",
        "    def envelhecer(self):                \n",
        "        self.__idade = self.__idade + 1            \n",
        "\n",
        "        if (self.__idade < 20):           \n",
        "            self.__altura = self.__altura + 1\n",
        "\n",
        "    def engordar(self):\n",
        "        self.__peso = self.__peso + 1     \n",
        "\n",
        "    def emagrecer(self):\n",
        "        self.__peso = self.__peso - 1    \n",
        "\n",
        "    def crescer(self):\n",
        "        self.__altura = self.__altura + 1    \n"
      ]
    },
    {
      "cell_type": "markdown",
      "metadata": {
        "id": "vBDbxIOj3eUN"
      },
      "source": [
        "42 - Instancie um objeto da classe Humano com 17 anos, 170 cm de altura e 70 quilos e realize os seguintes passos:\n",
        "* Exiba a idade e altura antes e após chamar o método envelhecer.\n",
        "* Exiba o peso antes e após chamar o método engordar.\n",
        "* Exiba o peso antes e após chamar o método emagrecer."
      ]
    },
    {
      "cell_type": "code",
      "execution_count": 10,
      "metadata": {
        "collapsed": true,
        "id": "OvyUDC3RycbM",
        "colab": {
          "base_uri": "https://localhost:8080/"
        },
        "outputId": "9393ca9d-ef4c-48b2-bd62-1169fa74391c"
      },
      "outputs": [
        {
          "output_type": "stream",
          "name": "stdout",
          "text": [
            "Valores de idade: 17 anos e Altura: 170 cm antes do método Envelhecer:\n",
            "Valores de idade: 18 anos e Altura: 171 cm depois do método Envelhecer\n",
            "Valores de peso: 70kg antes do método Engordar\n",
            "Valores de peso: 71kg depois do método Engordar\n",
            "Valores de peso: 71kg antes do método Emagrecer\n",
            "Valores de peso: 70kg depois do método Emagrecer\n"
          ]
        }
      ],
      "source": [
        "Humano = SerHumano(\"Fabiana Oliveira\", 17, 70, 170)\n",
        "\n",
        "print('Valores de idade: {} anos e Altura: {} cm antes do método Envelhecer:'.format(Humano.idade, Humano.altura))\n",
        "Humano.envelhecer()\n",
        "print(\"Valores de idade: {} anos e Altura: {} cm depois do método Envelhecer\".format(Humano.idade, Humano.altura))   \n",
        "\n",
        "print(\"Valores de peso: {}kg antes do método Engordar\".format(Humano.peso))\n",
        "Humano.engordar()\n",
        "print(\"Valores de peso: {}kg depois do método Engordar\".format(Humano.peso))  \n",
        "\n",
        "\n",
        "print(\"Valores de peso: {}kg antes do método Emagrecer\".format(Humano.peso))\n",
        "Humano.emagrecer()\n",
        "print(\"Valores de peso: {}kg depois do método Emagrecer\".format(Humano.peso)) \n"
      ]
    },
    {
      "cell_type": "markdown",
      "metadata": {
        "id": "om2ykVS9qRyR"
      },
      "source": [
        "43 - Crie uma classe que modele um Funcionario, ela deve herdar todas as características da classe Humano, além dos seguintes atributos:\n",
        "\n",
        "* profissao\n",
        "* salario\n",
        "\n",
        "O acesso aos atributos deve ser realizado através de métodos."
      ]
    },
    {
      "cell_type": "code",
      "execution_count": 11,
      "metadata": {
        "collapsed": true,
        "id": "MNyVjr-CycbN"
      },
      "outputs": [],
      "source": [
        "class Funcionario(SerHumano):\n",
        "\n",
        "    def __init__(self, nome, idade, peso, altura, profissao, salario):\n",
        "        super().__init__(nome, idade, peso, altura)           \n",
        "        self.__profissao = profissao\n",
        "        self.__salario = salario   \n",
        "\n",
        "    @property\n",
        "    def profissao(self):\n",
        "        return self.__profissao\n",
        "\n",
        "    @profissao.setter\n",
        "    def profissao(self, profissao):\n",
        "        self.__profissao = profissao\n",
        "\n",
        "    @property\n",
        "    def salario(self):\n",
        "        return self.__salario\n",
        "\n",
        "    @salario.setter\n",
        "    def salario(self, salario):\n",
        "        self.__salario = salario\n",
        "        \n",
        "   "
      ]
    },
    {
      "cell_type": "markdown",
      "metadata": {
        "id": "V8ciqsFO3_ZC"
      },
      "source": [
        "44 - Crie um objeto da classe Funcionario que realize os seguintes passos:\n",
        "* Exiba o nome do funcionário\n",
        "* Exiba a profissao inicial e uma nova profissão assinalada ao objeto.\n",
        "* Exiba o salário inicial e o salário após um aumento de 500 reais."
      ]
    },
    {
      "cell_type": "code",
      "execution_count": 14,
      "metadata": {
        "collapsed": true,
        "id": "WleD7MY_3_eq",
        "colab": {
          "base_uri": "https://localhost:8080/"
        },
        "outputId": "627c2ad9-d83d-4913-f280-172d36cc5305"
      },
      "outputs": [
        {
          "output_type": "stream",
          "name": "stdout",
          "text": [
            "Nome do funcionário : Brenda Barros \n",
            "Primeira Profissão: Professora \n",
            "Segunda Profissão após mudança: Cientista de Dados \n",
            "Salario anterior : 8000 \n",
            "Salario alterado: 8500 \n"
          ]
        }
      ],
      "source": [
        "funcionario = Funcionario(\"Brenda Barros\", 17, 70, 170, \"Professora\", 8000)\n",
        "\n",
        "print(\"Nome do funcionário : {} \".format(funcionario.nome)) \n",
        "\n",
        "\n",
        "print(\"Primeira Profissão: {} \".format(funcionario.profissao))\n",
        "funcionario.profissao = \"Cientista de Dados\"\n",
        "print(\"Segunda Profissão após mudança: {} \".format(funcionario.profissao))\n",
        "\n",
        "\n",
        "print(\"Salario anterior : {} \".format(funcionario.salario))\n",
        "funcionario.salario = funcionario.salario + 500\n",
        "print(\"Salario alterado: {} \".format(funcionario.salario))\n"
      ]
    }
  ],
  "metadata": {
    "colab": {
      "provenance": []
    },
    "kernelspec": {
      "display_name": "Python 3",
      "language": "python",
      "name": "python3"
    },
    "language_info": {
      "codemirror_mode": {
        "name": "ipython",
        "version": 3
      },
      "file_extension": ".py",
      "mimetype": "text/x-python",
      "name": "python",
      "nbconvert_exporter": "python",
      "pygments_lexer": "ipython3",
      "version": "3.5.3"
    }
  },
  "nbformat": 4,
  "nbformat_minor": 0
}